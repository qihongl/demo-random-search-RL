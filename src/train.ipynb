{
 "cells": [
  {
   "cell_type": "code",
   "execution_count": 1,
   "metadata": {},
   "outputs": [
    {
     "data": {
      "text/plain": [
       "<torch._C.Generator at 0x113bdfdd0>"
      ]
     },
     "execution_count": 1,
     "metadata": {},
     "output_type": "execute_result"
    }
   ],
   "source": [
    "'''train a linear policy network on a grid world with random search'''\n",
    "import os\n",
    "import copy\n",
    "import torch\n",
    "import numpy as np\n",
    "import seaborn as sns\n",
    "import matplotlib.pyplot as plt\n",
    "from matplotlib.patches import Circle\n",
    "from utils import to_torch\n",
    "from agent import Policy as Agent\n",
    "from envs import GridWorld, ACTIONS\n",
    "\n",
    "sns.set(style='white', context='talk', palette='colorblind')\n",
    "np.random.seed(0)\n",
    "torch.manual_seed(0)\n",
    "# img_dir = '../figs'"
   ]
  },
  {
   "cell_type": "code",
   "execution_count": 2,
   "metadata": {},
   "outputs": [],
   "source": [
    "def sample_weight_changes(agent, sigma=1):\n",
    "    weight_change = {}\n",
    "    for name, w in agent.named_parameters():\n",
    "        weight_change[name] = torch.randn(w.data.size())*sigma\n",
    "    return weight_change\n",
    "\n",
    "\n",
    "def update_weights(agent, weight_change, factor):\n",
    "    for name, w in agent.named_parameters():\n",
    "        w.data += weight_change[name] * factor\n",
    "\n",
    "\n",
    "def run(agent_):\n",
    "    env.reset()\n",
    "    locs = [env.get_agent_loc()]\n",
    "    cumulative_reward, step = 0, 0\n",
    "    while step < max_steps:\n",
    "        # get current state\n",
    "        s_t = to_torch(env.get_agent_loc().reshape(1, -1))\n",
    "        # take an action\n",
    "        a_t, prob_a_t = agent_.choose_action(s_t)\n",
    "        # get a reward, make env transition\n",
    "        r_t = env.step(a_t)\n",
    "        # updates\n",
    "        cumulative_reward += r_t * gamma ** step\n",
    "        step += 1\n",
    "        locs.append(env.get_agent_loc())\n",
    "        # termination condition\n",
    "        if env.is_terminal():\n",
    "            break\n",
    "    return cumulative_reward, step, locs"
   ]
  },
  {
   "cell_type": "code",
   "execution_count": 3,
   "metadata": {},
   "outputs": [],
   "source": [
    "# define env and agent\n",
    "env = GridWorld(has_bomb=True)\n",
    "state_dim = env.height * env.width\n",
    "n_actions = len(ACTIONS)\n",
    "agent = Agent(dim_input=state_dim, dim_output=n_actions)\n",
    "\n",
    "# training params\n",
    "max_steps = 100\n",
    "gamma = .9\n",
    "alpha = 0.03\n",
    "n_epochs = 1000\n",
    "n_trials = 5"
   ]
  },
  {
   "cell_type": "code",
   "execution_count": 4,
   "metadata": {},
   "outputs": [
    {
     "name": "stdout",
     "output_type": "stream",
     "text": [
      "Epoch : 000 | return: -0.25, steps: 61.20\n",
      "Epoch : 010 | return: 0.07, steps: 78.40\n",
      "Epoch : 020 | return: -0.95, steps: 70.20\n",
      "Epoch : 030 | return: 0.00, steps: 100.00\n",
      "Epoch : 040 | return: -0.94, steps: 75.50\n",
      "Epoch : 050 | return: -0.60, steps: 61.40\n",
      "Epoch : 060 | return: 1.07, steps: 62.50\n",
      "Epoch : 070 | return: 0.65, steps: 67.10\n",
      "Epoch : 080 | return: 0.14, steps: 83.90\n",
      "Epoch : 090 | return: 0.55, steps: 65.80\n",
      "Epoch : 100 | return: 0.00, steps: 100.00\n",
      "Epoch : 110 | return: -0.17, steps: 91.80\n",
      "Epoch : 120 | return: -0.58, steps: 80.00\n",
      "Epoch : 130 | return: -0.00, steps: 99.50\n",
      "Epoch : 140 | return: -0.37, steps: 84.10\n",
      "Epoch : 150 | return: 0.07, steps: 88.00\n",
      "Epoch : 160 | return: 0.75, steps: 78.10\n",
      "Epoch : 170 | return: 0.61, steps: 62.40\n",
      "Epoch : 180 | return: 0.10, steps: 77.40\n",
      "Epoch : 190 | return: 0.22, steps: 77.90\n",
      "Epoch : 200 | return: 0.10, steps: 81.70\n",
      "Epoch : 210 | return: 0.25, steps: 90.80\n",
      "Epoch : 220 | return: -0.79, steps: 67.50\n",
      "Epoch : 230 | return: 0.42, steps: 61.00\n",
      "Epoch : 240 | return: 0.01, steps: 88.40\n",
      "Epoch : 250 | return: -0.91, steps: 54.70\n",
      "Epoch : 260 | return: -0.01, steps: 89.70\n",
      "Epoch : 270 | return: 0.68, steps: 65.00\n",
      "Epoch : 280 | return: 0.48, steps: 64.60\n",
      "Epoch : 290 | return: 0.00, steps: 100.00\n",
      "Epoch : 300 | return: 0.37, steps: 63.80\n",
      "Epoch : 310 | return: 0.46, steps: 64.60\n",
      "Epoch : 320 | return: 0.92, steps: 57.90\n",
      "Epoch : 330 | return: 1.35, steps: 33.50\n",
      "Epoch : 340 | return: 1.78, steps: 21.00\n",
      "Epoch : 350 | return: 2.10, steps: 19.40\n",
      "Epoch : 360 | return: 2.75, steps: 15.50\n",
      "Epoch : 370 | return: 1.41, steps: 11.50\n",
      "Epoch : 380 | return: 2.96, steps: 19.20\n",
      "Epoch : 390 | return: 3.16, steps: 17.10\n",
      "Epoch : 400 | return: 3.49, steps: 15.60\n",
      "Epoch : 410 | return: -0.43, steps: 49.50\n",
      "Epoch : 420 | return: 4.11, steps: 17.90\n",
      "Epoch : 430 | return: 3.54, steps: 13.90\n",
      "Epoch : 440 | return: 4.44, steps: 9.10\n",
      "Epoch : 450 | return: 4.18, steps: 9.50\n",
      "Epoch : 460 | return: 4.20, steps: 9.90\n",
      "Epoch : 470 | return: 4.40, steps: 9.30\n",
      "Epoch : 480 | return: 2.25, steps: 24.10\n",
      "Epoch : 490 | return: 4.50, steps: 10.00\n",
      "Epoch : 500 | return: 4.27, steps: 13.40\n",
      "Epoch : 510 | return: 4.86, steps: 8.80\n",
      "Epoch : 520 | return: 4.62, steps: 9.20\n",
      "Epoch : 530 | return: 4.30, steps: 10.00\n",
      "Epoch : 540 | return: 3.04, steps: 15.50\n",
      "Epoch : 550 | return: 2.42, steps: 27.70\n",
      "Epoch : 560 | return: 5.33, steps: 7.00\n",
      "Epoch : 570 | return: 4.59, steps: 10.60\n",
      "Epoch : 580 | return: 5.54, steps: 6.80\n",
      "Epoch : 590 | return: 4.68, steps: 8.90\n",
      "Epoch : 600 | return: 5.15, steps: 7.40\n",
      "Epoch : 610 | return: 4.22, steps: 10.50\n",
      "Epoch : 620 | return: 5.29, steps: 7.20\n",
      "Epoch : 630 | return: 5.69, steps: 6.40\n",
      "Epoch : 640 | return: 5.76, steps: 6.30\n",
      "Epoch : 650 | return: 4.90, steps: 8.90\n",
      "Epoch : 660 | return: 5.42, steps: 6.90\n",
      "Epoch : 670 | return: 4.95, steps: 8.70\n",
      "Epoch : 680 | return: 5.15, steps: 7.40\n",
      "Epoch : 690 | return: 4.65, steps: 8.40\n",
      "Epoch : 700 | return: 5.33, steps: 7.10\n",
      "Epoch : 710 | return: 5.53, steps: 6.70\n",
      "Epoch : 720 | return: 5.81, steps: 6.20\n",
      "Epoch : 730 | return: 4.53, steps: 9.20\n",
      "Epoch : 740 | return: 5.69, steps: 6.40\n",
      "Epoch : 750 | return: 4.66, steps: 10.20\n",
      "Epoch : 760 | return: 5.30, steps: 7.10\n",
      "Epoch : 770 | return: 5.30, steps: 7.10\n",
      "Epoch : 780 | return: 5.52, steps: 6.70\n",
      "Epoch : 790 | return: 5.81, steps: 6.30\n",
      "Epoch : 800 | return: 5.17, steps: 7.40\n",
      "Epoch : 810 | return: 5.64, steps: 6.50\n",
      "Epoch : 820 | return: 5.85, steps: 6.30\n",
      "Epoch : 830 | return: 5.16, steps: 7.40\n",
      "Epoch : 840 | return: 3.99, steps: 7.20\n",
      "Epoch : 850 | return: 5.66, steps: 6.50\n",
      "Epoch : 860 | return: 5.87, steps: 6.10\n",
      "Epoch : 870 | return: 3.55, steps: 8.00\n",
      "Epoch : 880 | return: 5.26, steps: 7.20\n",
      "Epoch : 890 | return: 3.43, steps: 9.70\n",
      "Epoch : 900 | return: 4.92, steps: 9.80\n",
      "Epoch : 910 | return: 4.23, steps: 10.90\n",
      "Epoch : 920 | return: 4.59, steps: 9.10\n",
      "Epoch : 930 | return: 5.59, steps: 6.60\n",
      "Epoch : 940 | return: 5.57, steps: 6.70\n",
      "Epoch : 950 | return: 5.75, steps: 6.30\n",
      "Epoch : 960 | return: 5.63, steps: 6.50\n",
      "Epoch : 970 | return: 4.75, steps: 8.30\n",
      "Epoch : 980 | return: 5.92, steps: 6.00\n",
      "Epoch : 990 | return: 5.17, steps: 7.50\n"
     ]
    }
   ],
   "source": [
    "log_return = np.zeros((n_epochs, 2, n_trials))\n",
    "log_steps = np.zeros((n_epochs, 2, n_trials))\n",
    "\n",
    "for epoch_id in range(n_epochs):\n",
    "    # propose a mutation vector\n",
    "    weight_change = sample_weight_changes(agent)\n",
    "    # create agent +/-\n",
    "    agent_l = copy.deepcopy(agent)\n",
    "    update_weights(agent_l, weight_change, factor=-1)\n",
    "    agent_r = copy.deepcopy(agent)\n",
    "    update_weights(agent_r, weight_change, factor=1)\n",
    "    agent_lr = [agent_l, agent_r]\n",
    "    for j, agent_j in enumerate(agent_lr):\n",
    "        # run the agent for several trials\n",
    "        for i in range(n_trials):\n",
    "            cumulative_reward, step, locs = run(agent_j)\n",
    "            log_return[epoch_id, j, i] = cumulative_reward\n",
    "            log_steps[epoch_id, j, i] = step\n",
    "    # update weights\n",
    "    mean_return_lr = np.mean(log_return[epoch_id], axis=1)\n",
    "    step_size = (mean_return_lr[1] - mean_return_lr[0]) * alpha\n",
    "    update_weights(agent, weight_change, step_size)\n",
    "\n",
    "    # log message\n",
    "    return_ = np.mean(log_return[epoch_id])\n",
    "    steps_ = np.mean(log_steps[epoch_id])\n",
    "    if np.mod(epoch_id, 10) == 0:\n",
    "        print('Epoch : %.3d | return: %.2f, steps: %.2f' % (\n",
    "            epoch_id, return_, steps_))"
   ]
  },
  {
   "cell_type": "code",
   "execution_count": 5,
   "metadata": {},
   "outputs": [
    {
     "data": {
      "image/png": "[encoded data removed]",
      "text/plain": [
       "<Figure size 432x432 with 2 Axes>"
      ]
     },
     "metadata": {
      "needs_background": "light"
     },
     "output_type": "display_data"
    }
   ],
   "source": [
    "'''show learning curve: return, steps'''\n",
    "lc_return = np.mean(np.mean(log_return, axis=-1), axis=-1)\n",
    "lc_steps = np.mean(np.mean(log_steps, axis=-1), axis=-1)\n",
    "\n",
    "f, axes = plt.subplots(2, 1, figsize=(6, 6), sharex=True)\n",
    "axes[0].plot(lc_return)\n",
    "axes[0].axhline(0, color='grey', linestyle='--')\n",
    "axes[0].set_title('Learning curve')\n",
    "axes[0].set_ylabel('Return')\n",
    "axes[1].plot(lc_steps)\n",
    "axes[1].set_title(' ')\n",
    "axes[1].set_ylabel('n steps taken')\n",
    "axes[1].set_xlabel('Epoch')\n",
    "axes[1].set_ylim([0, None])\n",
    "sns.despine()\n",
    "f.tight_layout()\n",
    "# f.savefig(os.path.join(img_dir, 'lc.png'), dpi=120)"
   ]
  },
  {
   "cell_type": "code",
   "execution_count": 6,
   "metadata": {},
   "outputs": [
    {
     "data": {
      "image/png": "[encoded data removed]",
      "text/plain": [
       "<Figure size 360x360 with 1 Axes>"
      ]
     },
     "metadata": {
      "needs_background": "light"
     },
     "output_type": "display_data"
    }
   ],
   "source": [
    "'''show a sample path'''\n",
    "cumulative_reward, step, locs = run(agent)\n",
    "color_intensity = np.linspace(.1, 1, step+1)\n",
    "path = np.sum([color_intensity[t]*locs[t] for t in range(step+1)], axis=0)\n",
    "path[path == 0] = -.2\n",
    "\n",
    "f, ax = plt.subplots(1, 1, figsize=(5, 5))\n",
    "ax.set_title(f'Steps taken = {step}; Return = %.2f' % cumulative_reward)\n",
    "ax.imshow(path, cmap='Blues', aspect='auto')\n",
    "goal = Circle(env.gold_loc[::-1], radius=.1, color='red')\n",
    "ax.add_patch(goal)\n",
    "if env.has_bomb:\n",
    "    bomb = Circle(env.bomb_loc[::-1], radius=.1, color='black')\n",
    "    ax.add_patch(bomb)\n",
    "f.tight_layout()\n",
    "# f.savefig(os.path.join(img_dir, 'pg-path.png'), dpi=120)"
   ]
  },
  {
   "cell_type": "code",
   "execution_count": null,
   "metadata": {},
   "outputs": [],
   "source": []
  }
 ],
 "metadata": {
  "kernelspec": {
   "display_name": "Python 3",
   "language": "python",
   "name": "python3"
  },
  "language_info": {
   "codemirror_mode": {
    "name": "ipython",
    "version": 3
   },
   "file_extension": ".py",
   "mimetype": "text/x-python",
   "name": "python",
   "nbconvert_exporter": "python",
   "pygments_lexer": "ipython3",
   "version": "3.6.1"
  }
 },
 "nbformat": 4,
 "nbformat_minor": 2
}
